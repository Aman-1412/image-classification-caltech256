{
 "cells": [
  {
   "cell_type": "code",
   "execution_count": 1,
   "metadata": {},
   "outputs": [],
   "source": [
    "import os, shutil, random\n",
    "import numpy as np"
   ]
  },
  {
   "cell_type": "code",
   "execution_count": 2,
   "metadata": {},
   "outputs": [],
   "source": [
    "# source_folder: Source folder containing all the data\n",
    "# dest_folder: Root folder containing the dataset in the form of train, valid and test folders\n",
    "\n",
    "source_folder = \"C:\\\\Python35\\\\projs\\\\ml\\\\datasets\\\\256_ObjectCategories_11\"\n",
    "dest_folder = os.path.join(os.getcwd(), \"transfer_learning_caltech256\", \"data\")"
   ]
  },
  {
   "cell_type": "code",
   "execution_count": 3,
   "metadata": {},
   "outputs": [],
   "source": [
    "# Helper function to shuffle and split the dataset\n",
    "\n",
    "def shuffle_and_split_files(source_folder, dest_folder, number_of_training_samples = None, number_of_validation_samples = None, dirname_sanitizer = str()):\n",
    "    os.mkdir(dest_folder)\n",
    "    for dirname in os.scandir(source_folder):\n",
    "        sanitized_dirname = dirname_sanitizer(dirname.name)\n",
    "        all_files_iterator = os.scandir(dirname)\n",
    "        all_files = list(all_files_iterator)\n",
    "        all_files_split = {}\n",
    "        random.seed(1412)\n",
    "        random.shuffle(all_files)\n",
    "        if number_of_training_samples:\n",
    "            train_split = number_of_training_samples\n",
    "            valid_split = train_split + number_of_validation_samples\n",
    "        else:\n",
    "            train_ratio = 0.6\n",
    "            valid_ratio = 0.2\n",
    "            train_split = int(train_ratio * len(all_files))\n",
    "            valid_split = int((train_ratio + valid_ratio) * len(all_files))\n",
    "\n",
    "        all_files_split[\"train\"] = all_files[:train_split]\n",
    "        all_files_split[\"valid\"] = all_files[train_split:valid_split]\n",
    "        all_files_split[\"test\"] = all_files[valid_split:]\n",
    "\n",
    "        for k,v in all_files_split.items():\n",
    "            files_destination = os.path.join(dest_folder, k, sanitized_dirname)\n",
    "            os.makedirs(files_destination)\n",
    "            for filename in v:\n",
    "                shutil.copy(filename, files_destination)\n",
    "            # Uncomment this to see the number of files copied\n",
    "            print(f\"{len(v)} copied to the {k}/{sanitized_dirname} directory\")\n",
    "                \n"
   ]
  },
  {
   "cell_type": "code",
   "execution_count": 4,
   "metadata": {},
   "outputs": [
    {
     "name": "stdout",
     "output_type": "stream",
     "text": [
      "70 copied to the train/bear directory\n",
      "10 copied to the valid/bear directory\n",
      "22 copied to the test/bear directory\n",
      "70 copied to the train/chimp directory\n",
      "10 copied to the valid/chimp directory\n",
      "30 copied to the test/chimp directory\n",
      "70 copied to the train/dog directory\n",
      "10 copied to the valid/dog directory\n",
      "22 copied to the test/dog directory\n",
      "70 copied to the train/elephant directory\n",
      "10 copied to the valid/elephant directory\n",
      "51 copied to the test/elephant directory\n",
      "70 copied to the train/giraffe directory\n",
      "10 copied to the valid/giraffe directory\n",
      "4 copied to the test/giraffe directory\n",
      "70 copied to the train/goat directory\n",
      "10 copied to the valid/goat directory\n",
      "32 copied to the test/goat directory\n",
      "70 copied to the train/gorilla directory\n",
      "10 copied to the valid/gorilla directory\n",
      "132 copied to the test/gorilla directory\n",
      "70 copied to the train/llama directory\n",
      "10 copied to the valid/llama directory\n",
      "39 copied to the test/llama directory\n",
      "70 copied to the train/porcupine directory\n",
      "10 copied to the valid/porcupine directory\n",
      "21 copied to the test/porcupine directory\n",
      "70 copied to the train/skunk directory\n",
      "10 copied to the valid/skunk directory\n",
      "1 copied to the test/skunk directory\n",
      "70 copied to the train/unicorn directory\n",
      "10 copied to the valid/unicorn directory\n",
      "17 copied to the test/unicorn directory\n",
      "70 copied to the train/zebra directory\n",
      "10 copied to the valid/zebra directory\n",
      "16 copied to the test/zebra directory\n"
     ]
    }
   ],
   "source": [
    "# This will split the images into 3 folders - train, valid and test.\n",
    "# It will then create folders based on their class names into the 3 folders.\n",
    "\n",
    "shuffle_and_split_files(\n",
    "    source_folder,dest_folder, \n",
    "    70, 10, \n",
    "    dirname_sanitizer = lambda k : k.split(\".\")[1].split(\"-\")[0]\n",
    ")"
   ]
  },
  {
   "cell_type": "code",
   "execution_count": null,
   "metadata": {},
   "outputs": [],
   "source": []
  }
 ],
 "metadata": {
  "kernelspec": {
   "display_name": "Python 3",
   "language": "python",
   "name": "python3"
  },
  "language_info": {
   "codemirror_mode": {
    "name": "ipython",
    "version": 3
   },
   "file_extension": ".py",
   "mimetype": "text/x-python",
   "name": "python",
   "nbconvert_exporter": "python",
   "pygments_lexer": "ipython3",
   "version": "3.7.3"
  }
 },
 "nbformat": 4,
 "nbformat_minor": 2
}
